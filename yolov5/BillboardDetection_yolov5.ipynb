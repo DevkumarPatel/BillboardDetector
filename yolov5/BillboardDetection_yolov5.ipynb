{
 "cells": [
  {
   "cell_type": "code",
   "execution_count": 1,
   "metadata": {},
   "outputs": [
    {
     "name": "stderr",
     "output_type": "stream",
     "text": [
      "Using cache found in .cache\\ultralytics_yolov5_master\n",
      "YOLOv5  2024-7-22 Python-3.10.14 torch-2.2.2 CUDA:0 (NVIDIA GeForce RTX 3060, 12288MiB)\n",
      "\n"
     ]
    }
   ],
   "source": [
    "import torch \n",
    "torch.hub.set_dir('.cache')\n",
    "model = torch.hub.load('ultralytics/yolov5', 'yolov5s', autoshape=False)  \n"
   ]
  },
  {
   "cell_type": "code",
   "execution_count": 2,
   "metadata": {},
   "outputs": [
    {
     "data": {
      "text/plain": [
       "'../datasets/ooh-detection/data.yaml'"
      ]
     },
     "execution_count": 2,
     "metadata": {},
     "output_type": "execute_result"
    }
   ],
   "source": [
    "import os \n",
    "yaml_path = os.path.join(\"../datasets/ooh-detection/\", 'data.yaml')\n",
    "yaml_path"
   ]
  },
  {
   "cell_type": "code",
   "execution_count": null,
   "metadata": {},
   "outputs": [],
   "source": []
  }
 ],
 "metadata": {
  "kernelspec": {
   "display_name": "billboard",
   "language": "python",
   "name": "python3"
  },
  "language_info": {
   "codemirror_mode": {
    "name": "ipython",
    "version": 3
   },
   "file_extension": ".py",
   "mimetype": "text/x-python",
   "name": "python",
   "nbconvert_exporter": "python",
   "pygments_lexer": "ipython3",
   "version": "3.10.14"
  }
 },
 "nbformat": 4,
 "nbformat_minor": 2
}
